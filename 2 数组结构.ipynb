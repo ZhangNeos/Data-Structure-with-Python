{
 "cells": [
  {
   "cell_type": "code",
   "execution_count": 1,
   "metadata": {},
   "outputs": [
    {
     "name": "stdout",
     "output_type": "stream",
     "text": [
      "第1位学生的分数：87\n",
      "第2位学生的分数：66\n",
      "第3位学生的分数：90\n",
      "第4位学生的分数：65\n",
      "第5位学生的分数：70\n",
      "--------------------\n",
      "总分数：378\n"
     ]
    }
   ],
   "source": [
    "score = [87, 66, 90, 65, 70]\n",
    "total_score = 0\n",
    "for count in range(len(score)):\n",
    "    print('第{}位学生的分数：{}'.format(count+1, score[count]))\n",
    "    total_score += score[count]\n",
    "print('-'*20)\n",
    "print('总分数：{}'.format(total_score))"
   ]
  },
  {
   "cell_type": "code",
   "execution_count": 2,
   "metadata": {},
   "outputs": [
    {
     "name": "stdout",
     "output_type": "stream",
     "text": [
      "|a1, b1|\n",
      "|a2, b2|\n",
      "请输入a1:1\n",
      "请输入b1:2\n",
      "请输入a2:3\n",
      "请输入b2:4\n",
      "|1 2|\n",
      "|3 4|\n",
      "行列式值=-2\n"
     ]
    }
   ],
   "source": [
    "N = 2\n",
    "arr = [[None] * N for row in range(N)]\n",
    "print('|a1, b1|')\n",
    "print('|a2, b2|')\n",
    "arr[0][0] = float(input('请输入a1:'))\n",
    "arr[0][1] = float(input('请输入b1:'))\n",
    "arr[1][0] = float(input('请输入a2:'))\n",
    "arr[1][1] = float(input('请输入b2:'))\n",
    "\n",
    "result = arr[0][0] * arr[1][1] - arr[0][1] * arr[1][0]\n",
    "print('|%d %d|'%(arr[0][0], arr[0][1]))\n",
    "print('|%d %d|'%(arr[1][0], arr[1][1]))\n",
    "print('行列式值=%d'%result)"
   ]
  },
  {
   "cell_type": "code",
   "execution_count": 3,
   "metadata": {},
   "outputs": [
    {
     "name": "stdout",
     "output_type": "stream",
     "text": [
      "A和B相加的结果:\n",
      "10\t11\t12\t\n",
      "13\t14\t15\t\n",
      "16\t17\t18\t\n"
     ]
    }
   ],
   "source": [
    "A = [[1, 3, 5],\n",
    "     [7, 9, 11],\n",
    "     [13, 15, 17]]\n",
    "B = [[9, 8, 7], \n",
    "     [6, 5, 4],\n",
    "     [3, 2, 1]]\n",
    "C = [[None] * 3 for row in range(3)]\n",
    "\n",
    "print('A和B相加的结果:')\n",
    "for i in range(len(A)):\n",
    "    for j in range(len(A[1])):\n",
    "        C[i][j] = A[i][j] + B[i][j]\n",
    "        print(C[i][j], end='\\t')\n",
    "    print()"
   ]
  },
  {
   "cell_type": "code",
   "execution_count": 8,
   "metadata": {},
   "outputs": [
    {
     "ename": "SyntaxError",
     "evalue": "invalid syntax (<ipython-input-8-ec49488e88a1>, line 20)",
     "output_type": "error",
     "traceback": [
      "\u001b[1;36m  File \u001b[1;32m\"<ipython-input-8-ec49488e88a1>\"\u001b[1;36m, line \u001b[1;32m20\u001b[0m\n\u001b[1;33m    print('请输入矩阵B的维数(N, P):')\u001b[0m\n\u001b[1;37m        ^\u001b[0m\n\u001b[1;31mSyntaxError\u001b[0m\u001b[1;31m:\u001b[0m invalid syntax\n"
     ]
    }
   ],
   "source": [
    "def MatrixMultiply(arrA, arrB, arrC, M, N, P):\n",
    "    assert M>0 and N>0 and P>0, '错误:维数M,N,P必须大于0'\n",
    "    for i in range(M):\n",
    "        for j in range(N):\n",
    "            for k in range(P):\n",
    "                C[i][k] += A[i][j] * B[j][k]\n",
    "    return C\n",
    "\n",
    "print('请输入矩阵A的维数(M, N):')\n",
    "M = int(input('M='))\n",
    "N = int(input('N='))\n",
    "A = [[None]*N for row in range(M)]\n",
    "\n",
    "print('请输入矩阵A的各个元素:')\n",
    "for i in range(M):\n",
    "    for j in range(N):\n",
    "        A[i][j] = int(input('a%d%d='%(i, j))\n",
    "\n",
    "\n",
    "print('请输入矩阵B的维数(N, P):')\n",
    "N = int(input('N='))\n",
    "P = int(input('P='))\n",
    "B = [[None]*P for row in range(N)]\n",
    "\n",
    "print('请输入矩阵B的各个元素:')\n",
    "for i in range(N):\n",
    "    for j in range(P):\n",
    "        A[i][j] = int(input('b%d%d='%(i, j))\n",
    "        \n",
    "MatrixMultiply(A, B, C, M, N, P)"
   ]
  },
  {
   "cell_type": "code",
   "execution_count": 10,
   "metadata": {},
   "outputs": [
    {
     "name": "stdout",
     "output_type": "stream",
     "text": [
      "[[1, 5, 9, 13], [2, 6, 10, 14], [3, 7, 11, 15], [4, 8, 12, 16]]\n"
     ]
    }
   ],
   "source": [
    "arrA = [[1, 2, 3, 4],\n",
    "        [5, 6, 7, 8],\n",
    "        [9, 10, 11, 12],\n",
    "        [13, 14, 15, 16]]\n",
    "arrB = [[None]*len(arrA) for row in range(len(arrA))]\n",
    "\n",
    "for i in range(len(A)):\n",
    "    for j in range(len(A)):\n",
    "        arrB[i][j] = arrA[j][i]\n",
    "print(arrB)"
   ]
  },
  {
   "cell_type": "code",
   "execution_count": null,
   "metadata": {},
   "outputs": [],
   "source": []
  },
  {
   "cell_type": "code",
   "execution_count": null,
   "metadata": {},
   "outputs": [],
   "source": []
  }
 ],
 "metadata": {
  "kernelspec": {
   "display_name": "Python 3",
   "language": "python",
   "name": "python3"
  },
  "language_info": {
   "codemirror_mode": {
    "name": "ipython",
    "version": 3
   },
   "file_extension": ".py",
   "mimetype": "text/x-python",
   "name": "python",
   "nbconvert_exporter": "python",
   "pygments_lexer": "ipython3",
   "version": "3.7.1"
  }
 },
 "nbformat": 4,
 "nbformat_minor": 2
}
